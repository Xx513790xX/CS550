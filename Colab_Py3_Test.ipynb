{
  "nbformat": 4,
  "nbformat_minor": 0,
  "metadata": {
    "colab": {
      "name": "Colab_Py3_Test.ipynb",
      "version": "0.3.2",
      "provenance": [],
      "include_colab_link": true
    },
    "kernelspec": {
      "name": "python3",
      "display_name": "Python 3"
    }
  },
  "cells": [
    {
      "cell_type": "markdown",
      "metadata": {
        "id": "view-in-github",
        "colab_type": "text"
      },
      "source": [
        "<a href=\"https://colab.research.google.com/github/Xx513790xX/CS550/blob/colab_py3_test/Colab_Py3_Test.ipynb\" target=\"_parent\"><img src=\"https://colab.research.google.com/assets/colab-badge.svg\" alt=\"Open In Colab\"/></a>"
      ]
    },
    {
      "cell_type": "code",
      "metadata": {
        "id": "EwGrbdFyMVR5",
        "colab_type": "code",
        "colab": {
          "base_uri": "https://localhost:8080/",
          "height": 547
        },
        "outputId": "93c70cd3-1206-4876-a4aa-99fd2cef0744"
      },
      "source": [
        "import tensorflow as tf\n",
        "import numpy as np\n",
        "from tensorflow import keras\n",
        "model =keras.Sequential([keras.layers.Dense(units=1, input_shape=[1])]);\n",
        "model.compile(optimizer=\"sgd\", loss='mean_squared_error')\n",
        "xs = [1,2,3,4,5,6]\n",
        "ys = [100,150,200,250,300,350]\n",
        "model.fit(xs,ys,epochs=10)\n",
        "print(model.predict([7.0]))"
      ],
      "execution_count": 1,
      "outputs": [
        {
          "output_type": "stream",
          "text": [
            "WARNING:tensorflow:From /usr/local/lib/python3.6/dist-packages/tensorflow/python/ops/resource_variable_ops.py:435: colocate_with (from tensorflow.python.framework.ops) is deprecated and will be removed in a future version.\n",
            "Instructions for updating:\n",
            "Colocations handled automatically by placer.\n",
            "WARNING:tensorflow:From /usr/local/lib/python3.6/dist-packages/tensorflow/python/keras/utils/losses_utils.py:170: to_float (from tensorflow.python.ops.math_ops) is deprecated and will be removed in a future version.\n",
            "Instructions for updating:\n",
            "Use tf.cast instead.\n",
            "WARNING:tensorflow:From /usr/local/lib/python3.6/dist-packages/tensorflow/python/ops/math_ops.py:3066: to_int32 (from tensorflow.python.ops.math_ops) is deprecated and will be removed in a future version.\n",
            "Instructions for updating:\n",
            "Use tf.cast instead.\n",
            "Epoch 1/10\n",
            "6/6 [==============================] - 1s 88ms/sample - loss: 57474.2500\n",
            "Epoch 2/10\n",
            "6/6 [==============================] - 0s 400us/sample - loss: 26735.8359\n",
            "Epoch 3/10\n",
            "6/6 [==============================] - 0s 631us/sample - loss: 12508.1953\n",
            "Epoch 4/10\n",
            "6/6 [==============================] - 0s 308us/sample - loss: 5922.2388\n",
            "Epoch 5/10\n",
            "6/6 [==============================] - 0s 502us/sample - loss: 2873.0925\n",
            "Epoch 6/10\n",
            "6/6 [==============================] - 0s 611us/sample - loss: 1460.8939\n",
            "Epoch 7/10\n",
            "6/6 [==============================] - 0s 488us/sample - loss: 806.3298\n",
            "Epoch 8/10\n",
            "6/6 [==============================] - 0s 634us/sample - loss: 502.4298\n",
            "Epoch 9/10\n",
            "6/6 [==============================] - 0s 306us/sample - loss: 360.8340\n",
            "Epoch 10/10\n",
            "6/6 [==============================] - 0s 546us/sample - loss: 294.3642\n",
            "[[413.33008]]\n"
          ],
          "name": "stdout"
        }
      ]
    }
  ]
}